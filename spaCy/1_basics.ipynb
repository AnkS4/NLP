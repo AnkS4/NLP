{
 "cells": [
  {
   "cell_type": "code",
   "execution_count": null,
   "metadata": {},
   "outputs": [],
   "source": [
    "import spacy\n",
    "# Import the Spanish, Japanese language class\n",
    "from spacy.lang.es import Spanish\n",
    "from spacy.lang.ja import Japanese"
   ]
  },
  {
   "cell_type": "code",
   "execution_count": 20,
   "metadata": {},
   "outputs": [
    {
     "name": "stdout",
     "output_type": "stream",
     "text": [
      "Hablo bastante bien el español.\n"
     ]
    }
   ],
   "source": [
    "# Create the nlp object\n",
    "nlp = Spanish()\n",
    "\n",
    "# Process a text\n",
    "doc = nlp(\"Hablo bastante bien el español.\")\n",
    "\n",
    "# Print the document text\n",
    "print(doc.text)"
   ]
  },
  {
   "cell_type": "code",
   "execution_count": 21,
   "metadata": {},
   "outputs": [
    {
     "name": "stdout",
     "output_type": "stream",
     "text": [
      "日本\n"
     ]
    }
   ],
   "source": [
    "nlp = Japanese()\n",
    "\n",
    "# Process the text\n",
    "doc = nlp(\"私は日本人ではありません。\")\n",
    "\n",
    "# Select the third token\n",
    "third_token = doc[2]\n",
    "\n",
    "# Print the third token's text\n",
    "print(third_token.text)"
   ]
  },
  {
   "cell_type": "code",
   "execution_count": 25,
   "metadata": {},
   "outputs": [
    {
     "name": "stdout",
     "output_type": "stream",
     "text": [
      "En             ADP       case      \n",
      "la             DET       det       \n",
      "celebración    NOUN      obl       \n",
      "estuvo         VERB      ROOT      \n",
      "la             DET       det       \n",
      "infanta        NOUN      amod      \n",
      "Elena          PROPN     nsubj     \n",
      "con            ADP       case      \n",
      "sus            DET       det       \n",
      "dos            NUM       nummod    \n",
      "hijos          NOUN      obl       \n",
      ",              PUNCT     punct     \n",
      "Felipe         PROPN     appos     \n",
      "y              CCONJ     cc        \n",
      "Victoria       PROPN     conj      \n",
      "de             ADP       case      \n",
      "Marichalar     PROPN     flat      \n",
      ".              PUNCT     punct     \n"
     ]
    }
   ],
   "source": [
    "nlp = spacy.load(\"es_core_news_sm\")\n",
    "\n",
    "text = \"En la celebración estuvo la infanta Elena con sus dos hijos, Felipe y Victoria de Marichalar.\"\n",
    "\n",
    "doc = nlp(text)\n",
    "\n",
    "for token in doc:\n",
    "    # Get the token text, part-of-speech tag and dependency label\n",
    "    token_text = token.text\n",
    "    token_pos = token.pos_\n",
    "    token_dep = token.dep_\n",
    "    \n",
    "    print(f\"{token_text:<15}{token_pos:<10}{token_dep:<10}\")"
   ]
  },
  {
   "cell_type": "code",
   "execution_count": 26,
   "metadata": {},
   "outputs": [
    {
     "name": "stdout",
     "output_type": "stream",
     "text": [
      "アメリカ GPE\n",
      "大統領 TITLE_AFFIX\n",
      "日本 GPE\n",
      "8時 TIME\n"
     ]
    }
   ],
   "source": [
    "nlp = spacy.load(\"ja_core_news_sm\")\n",
    "\n",
    "doc = nlp(\"アメリカ大統領選 日本時間の今夜8時から投票始まる\")\n",
    "\n",
    "# Iterate over the predicted entities\n",
    "for ent in doc.ents:\n",
    "    # Print the entity text and its label\n",
    "    print(ent.text, ent.label_)"
   ]
  },
  {
   "cell_type": "code",
   "execution_count": 12,
   "metadata": {},
   "outputs": [
    {
     "data": {
      "text/plain": [
       "'Countries, cities, states'"
      ]
     },
     "execution_count": 12,
     "metadata": {},
     "output_type": "execute_result"
    }
   ],
   "source": [
    "spacy.explain(\"GPE\")"
   ]
  }
 ],
 "metadata": {
  "kernelspec": {
   "display_name": "Python 3",
   "language": "python",
   "name": "python3"
  },
  "language_info": {
   "codemirror_mode": {
    "name": "ipython",
    "version": 3
   },
   "file_extension": ".py",
   "mimetype": "text/x-python",
   "name": "python",
   "nbconvert_exporter": "python",
   "pygments_lexer": "ipython3",
   "version": "3.8.5"
  }
 },
 "nbformat": 4,
 "nbformat_minor": 4
}
